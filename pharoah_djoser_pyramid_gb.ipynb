{
  "nbformat": 4,
  "nbformat_minor": 0,
  "metadata": {
    "colab": {
      "provenance": [],
      "gpuType": "T4"
    },
    "kernelspec": {
      "name": "python3",
      "display_name": "Python 3"
    },
    "language_info": {
      "name": "python"
    },
    "accelerator": "GPU"
  },
  "cells": [
    {
      "cell_type": "code",
      "execution_count": 15,
      "metadata": {
        "colab": {
          "base_uri": "https://localhost:8080/"
        },
        "id": "3Zy8oK_zdu4L",
        "outputId": "15c10c07-864a-440f-90bc-e98732fa2239"
      },
      "outputs": [
        {
          "output_type": "stream",
          "name": "stdout",
          "text": [
            "Requirement already satisfied: pytube in /usr/local/lib/python3.10/dist-packages (15.0.0)\n",
            "Requirement already satisfied: opencv-python in /usr/local/lib/python3.10/dist-packages (4.10.0.84)\n",
            "Requirement already satisfied: ffmpeg-python in /usr/local/lib/python3.10/dist-packages (0.2.0)\n",
            "Requirement already satisfied: numpy>=1.21.2 in /usr/local/lib/python3.10/dist-packages (from opencv-python) (1.26.4)\n",
            "Requirement already satisfied: future in /usr/local/lib/python3.10/dist-packages (from ffmpeg-python) (1.0.0)\n"
          ]
        }
      ],
      "source": [
        "# Install required packages\n",
        "!pip install pytube opencv-python ffmpeg-python\n",
        "\n",
        "import os\n",
        "import cv2\n",
        "from pytube import YouTube\n",
        "import ffmpeg\n",
        "from google.colab import files\n",
        "import subprocess\n"
      ]
    },
    {
      "cell_type": "code",
      "source": [
        "#Visit https://github.com/ytdl-org/youtube-dl/ for advanced settings\n",
        "#Download module to your Colab\n",
        "!pip install youtube-dl"
      ],
      "metadata": {
        "colab": {
          "base_uri": "https://localhost:8080/"
        },
        "id": "gHzFK0f1gPtW",
        "outputId": "7a2fde2a-d527-4f1d-c0f2-45235d3d248b"
      },
      "execution_count": 2,
      "outputs": [
        {
          "output_type": "stream",
          "name": "stdout",
          "text": [
            "Collecting youtube-dl\n",
            "  Downloading youtube_dl-2021.12.17-py2.py3-none-any.whl.metadata (1.5 kB)\n",
            "Collecting yt-dlp\n",
            "  Downloading yt_dlp-2024.12.23-py3-none-any.whl.metadata (172 kB)\n",
            "\u001b[2K     \u001b[90m━━━━━━━━━━━━━━━━━━━━━━━━━━━━━━━━━━━━━━━━\u001b[0m \u001b[32m172.1/172.1 kB\u001b[0m \u001b[31m7.5 MB/s\u001b[0m eta \u001b[36m0:00:00\u001b[0m\n",
            "\u001b[?25hDownloading youtube_dl-2021.12.17-py2.py3-none-any.whl (1.9 MB)\n",
            "\u001b[2K   \u001b[90m━━━━━━━━━━━━━━━━━━━━━━━━━━━━━━━━━━━━━━━━\u001b[0m \u001b[32m1.9/1.9 MB\u001b[0m \u001b[31m46.8 MB/s\u001b[0m eta \u001b[36m0:00:00\u001b[0m\n",
            "\u001b[?25hDownloading yt_dlp-2024.12.23-py3-none-any.whl (3.2 MB)\n",
            "\u001b[2K   \u001b[90m━━━━━━━━━━━━━━━━━━━━━━━━━━━━━━━━━━━━━━━━\u001b[0m \u001b[32m3.2/3.2 MB\u001b[0m \u001b[31m49.8 MB/s\u001b[0m eta \u001b[36m0:00:00\u001b[0m\n",
            "\u001b[?25hInstalling collected packages: youtube-dl, yt-dlp\n",
            "Successfully installed youtube-dl-2021.12.17 yt-dlp-2024.12.23\n"
          ]
        }
      ]
    },
    {
      "cell_type": "code",
      "source": [
        "!python3 -m pip install -U \"yt-dlp[default]\""
      ],
      "metadata": {
        "colab": {
          "base_uri": "https://localhost:8080/"
        },
        "id": "xHIemKRdnt7u",
        "outputId": "dce6445d-b812-4d84-ef1f-d860397abb81"
      },
      "execution_count": 3,
      "outputs": [
        {
          "output_type": "stream",
          "name": "stdout",
          "text": [
            "Requirement already satisfied: yt-dlp[default] in /usr/local/lib/python3.10/dist-packages (2024.12.23)\n",
            "Collecting brotli (from yt-dlp[default])\n",
            "  Downloading Brotli-1.1.0-cp310-cp310-manylinux_2_5_x86_64.manylinux1_x86_64.manylinux_2_12_x86_64.manylinux2010_x86_64.whl.metadata (5.5 kB)\n",
            "Requirement already satisfied: certifi in /usr/local/lib/python3.10/dist-packages (from yt-dlp[default]) (2024.12.14)\n",
            "Collecting mutagen (from yt-dlp[default])\n",
            "  Downloading mutagen-1.47.0-py3-none-any.whl.metadata (1.7 kB)\n",
            "Collecting pycryptodomex (from yt-dlp[default])\n",
            "  Downloading pycryptodomex-3.21.0-cp36-abi3-manylinux_2_17_x86_64.manylinux2014_x86_64.whl.metadata (3.4 kB)\n",
            "Requirement already satisfied: requests<3,>=2.32.2 in /usr/local/lib/python3.10/dist-packages (from yt-dlp[default]) (2.32.3)\n",
            "Requirement already satisfied: urllib3<3,>=1.26.17 in /usr/local/lib/python3.10/dist-packages (from yt-dlp[default]) (2.2.3)\n",
            "Requirement already satisfied: websockets>=13.0 in /usr/local/lib/python3.10/dist-packages (from yt-dlp[default]) (14.1)\n",
            "Requirement already satisfied: charset-normalizer<4,>=2 in /usr/local/lib/python3.10/dist-packages (from requests<3,>=2.32.2->yt-dlp[default]) (3.4.0)\n",
            "Requirement already satisfied: idna<4,>=2.5 in /usr/local/lib/python3.10/dist-packages (from requests<3,>=2.32.2->yt-dlp[default]) (3.10)\n",
            "Downloading Brotli-1.1.0-cp310-cp310-manylinux_2_5_x86_64.manylinux1_x86_64.manylinux_2_12_x86_64.manylinux2010_x86_64.whl (3.0 MB)\n",
            "\u001b[2K   \u001b[90m━━━━━━━━━━━━━━━━━━━━━━━━━━━━━━━━━━━━━━━━\u001b[0m \u001b[32m3.0/3.0 MB\u001b[0m \u001b[31m46.0 MB/s\u001b[0m eta \u001b[36m0:00:00\u001b[0m\n",
            "\u001b[?25hDownloading mutagen-1.47.0-py3-none-any.whl (194 kB)\n",
            "\u001b[2K   \u001b[90m━━━━━━━━━━━━━━━━━━━━━━━━━━━━━━━━━━━━━━━━\u001b[0m \u001b[32m194.4/194.4 kB\u001b[0m \u001b[31m11.7 MB/s\u001b[0m eta \u001b[36m0:00:00\u001b[0m\n",
            "\u001b[?25hDownloading pycryptodomex-3.21.0-cp36-abi3-manylinux_2_17_x86_64.manylinux2014_x86_64.whl (2.3 MB)\n",
            "\u001b[2K   \u001b[90m━━━━━━━━━━━━━━━━━━━━━━━━━━━━━━━━━━━━━━━━\u001b[0m \u001b[32m2.3/2.3 MB\u001b[0m \u001b[31m41.1 MB/s\u001b[0m eta \u001b[36m0:00:00\u001b[0m\n",
            "\u001b[?25hInstalling collected packages: brotli, pycryptodomex, mutagen\n",
            "Successfully installed brotli-1.1.0 mutagen-1.47.0 pycryptodomex-3.21.0\n"
          ]
        }
      ]
    },
    {
      "cell_type": "code",
      "source": [
        "#!youtube-dl \"https://www.youtube.com/watch?v=mILL_sS60EI\"\n",
        "\n",
        "#!yt-dlp --recode-video \"mp4\" -P \"/content/yt-dlp/\" \"https://www.youtube.com/watch?v=mILL_sS60EI\"\n",
        "!yt-dlp -o \"saqqara_1\" -k -P \"/content/yt-dlp/\" \"https://www.youtube.com/watch?v=mILL_sS60EI\""
      ],
      "metadata": {
        "colab": {
          "base_uri": "https://localhost:8080/"
        },
        "id": "6-vXMKyhmzsm",
        "outputId": "bd95e7b0-1fc6-46f0-ad19-5efe204aa3b2"
      },
      "execution_count": 11,
      "outputs": [
        {
          "output_type": "stream",
          "name": "stdout",
          "text": [
            "[youtube] Extracting URL: https://www.youtube.com/watch?v=mILL_sS60EI\n",
            "[youtube] mILL_sS60EI: Downloading webpage\n",
            "[youtube] mILL_sS60EI: Downloading ios player API JSON\n",
            "[youtube] mILL_sS60EI: Downloading mweb player API JSON\n",
            "[youtube] mILL_sS60EI: Downloading m3u8 information\n",
            "[info] mILL_sS60EI: Downloading 1 format(s): 137+251\n",
            "[download] Destination: /content/yt-dlp/saqqara_1.f137.mp4\n",
            "\u001b[K[download] 100% of   72.20MiB in \u001b[1;37m00:00:00\u001b[0m at \u001b[0;32m99.49MiB/s\u001b[0m\n",
            "[download] Destination: /content/yt-dlp/saqqara_1.f251.webm\n",
            "\u001b[K[download] 100% of    2.59MiB in \u001b[1;37m00:00:00\u001b[0m at \u001b[0;32m65.98MiB/s\u001b[0m\n",
            "[Merger] Merging formats into \"/content/yt-dlp/saqqara_1.mkv\"\n"
          ]
        }
      ]
    },
    {
      "cell_type": "code",
      "source": [
        "%rm -rf /content/yt-dlp/"
      ],
      "metadata": {
        "id": "EqGbc5q2v9A1"
      },
      "execution_count": 12,
      "outputs": []
    },
    {
      "cell_type": "code",
      "source": [
        "# Function to download the video from YouTube\n",
        "def ref_download_video(youtube_url, download_path='video.mp4'):\n",
        "    print(f\"Downloading video from {youtube_url}...\")\n",
        "\n",
        "    '''\n",
        "    yt = YouTube(youtube_url)\n",
        "    stream = yt.streams.filter(progressive=True, file_extension='mp4').first()\n",
        "    stream.download(output_path=download_path)\n",
        "    '''\n",
        "\n",
        "    '''\n",
        "    with youtube_dl.YoutubeDL(ydl_opts) as ydl:\n",
        "      #Swap in your YouTube videos here\n",
        "      ydl.download([youtube_url])\n",
        "      print(f\"Video downloaded successfully to {download_path}\")\n",
        "    '''"
      ],
      "metadata": {
        "id": "7t1o1iIZd-pW"
      },
      "execution_count": 16,
      "outputs": []
    },
    {
      "cell_type": "code",
      "source": [
        "  # Function to download the video from YouTube\n",
        "def download_video(youtube_url, download_path='video', output_name=\"downloaded_video\"):\n",
        "    print(f\"Downloading video from {youtube_url}...\")\n",
        "\n",
        "    command = [\n",
        "        'yt-dlp',\n",
        "        '-o', output_name,\n",
        "        '-k',\n",
        "        '-P', download_path,\n",
        "        youtube_url\n",
        "    ]\n",
        "\n",
        "    print(command)\n",
        "    # Execute the command\n",
        "    subprocess.run(command)\n",
        ""
      ],
      "metadata": {
        "id": "TcAEOuqPx546"
      },
      "execution_count": 22,
      "outputs": []
    },
    {
      "cell_type": "code",
      "source": [
        "# Function to extract frames from the video between start_time and end_time\n",
        "def extract_frames(video_path, start_time, end_time, output_folder=\"/content/frames_output\"):\n",
        "    # Create the output folder if it doesn't exist\n",
        "    if not os.path.exists(output_folder):\n",
        "        os.makedirs(output_folder)\n",
        "\n",
        "    # Open the video file\n",
        "    cap = cv2.VideoCapture(video_path)\n",
        "\n",
        "    # Get the FPS (Frames per second)\n",
        "    fps = cap.get(cv2.CAP_PROP_FPS)\n",
        "\n",
        "    # Convert start and end time to frame numbers\n",
        "    start_frame = int(fps * start_time)\n",
        "    end_frame = int(fps * end_time)\n",
        "\n",
        "    # Set the video position to the start frame\n",
        "    cap.set(cv2.CAP_PROP_POS_FRAMES, start_frame)\n",
        "\n",
        "    # Frame extraction loop\n",
        "    frame_count = start_frame\n",
        "    while True:\n",
        "        ret, frame = cap.read()\n",
        "        if not ret or frame_count > end_frame:\n",
        "            break\n",
        "\n",
        "        # Save the frame as an image\n",
        "        frame_filename = f\"{output_folder}/frame_{frame_count}.jpg\"\n",
        "        cv2.imwrite(frame_filename, frame)\n",
        "        print(f\"Saved: {frame_filename}\")\n",
        "        frame_count += 1\n",
        "\n",
        "    cap.release()\n",
        "    print(f\"Frames extracted and saved to '{output_folder}'.\")"
      ],
      "metadata": {
        "id": "v2cubpNGd7x2"
      },
      "execution_count": 26,
      "outputs": []
    },
    {
      "cell_type": "code",
      "source": [
        "# Function to download, extract frames, and zip them for download\n",
        "def download_and_extract_frames(start_time, end_time, video_file, output_folder=\"/content/frames_output\"):\n",
        "\n",
        "    # Step 1: Download the video\n",
        "    #download_video(youtube_url, video_file)\n",
        "\n",
        "    # Step 2: Extract frames from the video\n",
        "    extract_frames(video_file, start_time, end_time, output_folder)\n",
        "\n",
        "    '''\n",
        "    # Step 3: Create a zip of the extracted frames\n",
        "    import zipfile\n",
        "    zip_filename = \"frames.zip\"\n",
        "    with zipfile.ZipFile(zip_filename, 'w') as zipf:\n",
        "        for root, _, files in os.walk(output_folder):\n",
        "            for file in files:\n",
        "                zipf.write(os.path.join(root, file), os.path.relpath(os.path.join(root, file), output_folder))\n",
        "\n",
        "    print(f\"Frames are zipped as {zip_filename}\")\n",
        "\n",
        "    # Step 4: Provide the zip file for download\n",
        "    files.download(zip_filename)\n",
        "    '''"
      ],
      "metadata": {
        "id": "yXz79kXTd4xG"
      },
      "execution_count": 29,
      "outputs": []
    },
    {
      "cell_type": "code",
      "source": [
        "# Example usage\n",
        "youtube_url = 'https://www.youtube.com/watch?v=mILL_sS60EI'  # Replace with your YouTube URL\n"
      ],
      "metadata": {
        "id": "ElEbO-3Yd11I"
      },
      "execution_count": 18,
      "outputs": []
    },
    {
      "cell_type": "code",
      "source": [
        "download_video(youtube_url)"
      ],
      "metadata": {
        "colab": {
          "base_uri": "https://localhost:8080/"
        },
        "id": "eGmkWRzZzZ71",
        "outputId": "af7a3bd1-c077-4c76-e153-312eb8ba71de"
      },
      "execution_count": 23,
      "outputs": [
        {
          "output_type": "stream",
          "name": "stdout",
          "text": [
            "Downloading video from https://www.youtube.com/watch?v=mILL_sS60EI...\n",
            "['yt-dlp', '-o', 'downloaded_video', '-k', '-P', 'video', 'https://www.youtube.com/watch?v=mILL_sS60EI']\n"
          ]
        }
      ]
    },
    {
      "cell_type": "code",
      "source": [
        "start_time = 8  # Start time in seconds (e.g., 30 seconds)\n",
        "end_time = 18    # End time in seconds (e.g., 60 seconds)\n",
        "\n",
        "download_and_extract_frames(start_time, end_time, \"/content/video/downloaded_video.mkv\")"
      ],
      "metadata": {
        "colab": {
          "base_uri": "https://localhost:8080/"
        },
        "id": "fFiAqw8ue7ed",
        "outputId": "7b101882-6b25-49da-9b68-993bec112db6"
      },
      "execution_count": 30,
      "outputs": [
        {
          "output_type": "stream",
          "name": "stdout",
          "text": [
            "Saved: /content/frames_output/frame_200.jpg\n",
            "Saved: /content/frames_output/frame_201.jpg\n",
            "Saved: /content/frames_output/frame_202.jpg\n",
            "Saved: /content/frames_output/frame_203.jpg\n",
            "Saved: /content/frames_output/frame_204.jpg\n",
            "Saved: /content/frames_output/frame_205.jpg\n",
            "Saved: /content/frames_output/frame_206.jpg\n",
            "Saved: /content/frames_output/frame_207.jpg\n",
            "Saved: /content/frames_output/frame_208.jpg\n",
            "Saved: /content/frames_output/frame_209.jpg\n",
            "Saved: /content/frames_output/frame_210.jpg\n",
            "Saved: /content/frames_output/frame_211.jpg\n",
            "Saved: /content/frames_output/frame_212.jpg\n",
            "Saved: /content/frames_output/frame_213.jpg\n",
            "Saved: /content/frames_output/frame_214.jpg\n",
            "Saved: /content/frames_output/frame_215.jpg\n",
            "Saved: /content/frames_output/frame_216.jpg\n",
            "Saved: /content/frames_output/frame_217.jpg\n",
            "Saved: /content/frames_output/frame_218.jpg\n",
            "Saved: /content/frames_output/frame_219.jpg\n",
            "Saved: /content/frames_output/frame_220.jpg\n",
            "Saved: /content/frames_output/frame_221.jpg\n",
            "Saved: /content/frames_output/frame_222.jpg\n",
            "Saved: /content/frames_output/frame_223.jpg\n",
            "Saved: /content/frames_output/frame_224.jpg\n",
            "Saved: /content/frames_output/frame_225.jpg\n",
            "Saved: /content/frames_output/frame_226.jpg\n",
            "Saved: /content/frames_output/frame_227.jpg\n",
            "Saved: /content/frames_output/frame_228.jpg\n",
            "Saved: /content/frames_output/frame_229.jpg\n",
            "Saved: /content/frames_output/frame_230.jpg\n",
            "Saved: /content/frames_output/frame_231.jpg\n",
            "Saved: /content/frames_output/frame_232.jpg\n",
            "Saved: /content/frames_output/frame_233.jpg\n",
            "Saved: /content/frames_output/frame_234.jpg\n",
            "Saved: /content/frames_output/frame_235.jpg\n",
            "Saved: /content/frames_output/frame_236.jpg\n",
            "Saved: /content/frames_output/frame_237.jpg\n",
            "Saved: /content/frames_output/frame_238.jpg\n",
            "Saved: /content/frames_output/frame_239.jpg\n",
            "Saved: /content/frames_output/frame_240.jpg\n",
            "Saved: /content/frames_output/frame_241.jpg\n",
            "Saved: /content/frames_output/frame_242.jpg\n",
            "Saved: /content/frames_output/frame_243.jpg\n",
            "Saved: /content/frames_output/frame_244.jpg\n",
            "Saved: /content/frames_output/frame_245.jpg\n",
            "Saved: /content/frames_output/frame_246.jpg\n",
            "Saved: /content/frames_output/frame_247.jpg\n",
            "Saved: /content/frames_output/frame_248.jpg\n",
            "Saved: /content/frames_output/frame_249.jpg\n",
            "Saved: /content/frames_output/frame_250.jpg\n",
            "Saved: /content/frames_output/frame_251.jpg\n",
            "Saved: /content/frames_output/frame_252.jpg\n",
            "Saved: /content/frames_output/frame_253.jpg\n",
            "Saved: /content/frames_output/frame_254.jpg\n",
            "Saved: /content/frames_output/frame_255.jpg\n",
            "Saved: /content/frames_output/frame_256.jpg\n",
            "Saved: /content/frames_output/frame_257.jpg\n",
            "Saved: /content/frames_output/frame_258.jpg\n",
            "Saved: /content/frames_output/frame_259.jpg\n",
            "Saved: /content/frames_output/frame_260.jpg\n",
            "Saved: /content/frames_output/frame_261.jpg\n",
            "Saved: /content/frames_output/frame_262.jpg\n",
            "Saved: /content/frames_output/frame_263.jpg\n",
            "Saved: /content/frames_output/frame_264.jpg\n",
            "Saved: /content/frames_output/frame_265.jpg\n",
            "Saved: /content/frames_output/frame_266.jpg\n",
            "Saved: /content/frames_output/frame_267.jpg\n",
            "Saved: /content/frames_output/frame_268.jpg\n",
            "Saved: /content/frames_output/frame_269.jpg\n",
            "Saved: /content/frames_output/frame_270.jpg\n",
            "Saved: /content/frames_output/frame_271.jpg\n",
            "Saved: /content/frames_output/frame_272.jpg\n",
            "Saved: /content/frames_output/frame_273.jpg\n",
            "Saved: /content/frames_output/frame_274.jpg\n",
            "Saved: /content/frames_output/frame_275.jpg\n",
            "Saved: /content/frames_output/frame_276.jpg\n",
            "Saved: /content/frames_output/frame_277.jpg\n",
            "Saved: /content/frames_output/frame_278.jpg\n",
            "Saved: /content/frames_output/frame_279.jpg\n",
            "Saved: /content/frames_output/frame_280.jpg\n",
            "Saved: /content/frames_output/frame_281.jpg\n",
            "Saved: /content/frames_output/frame_282.jpg\n",
            "Saved: /content/frames_output/frame_283.jpg\n",
            "Saved: /content/frames_output/frame_284.jpg\n",
            "Saved: /content/frames_output/frame_285.jpg\n",
            "Saved: /content/frames_output/frame_286.jpg\n",
            "Saved: /content/frames_output/frame_287.jpg\n",
            "Saved: /content/frames_output/frame_288.jpg\n",
            "Saved: /content/frames_output/frame_289.jpg\n",
            "Saved: /content/frames_output/frame_290.jpg\n",
            "Saved: /content/frames_output/frame_291.jpg\n",
            "Saved: /content/frames_output/frame_292.jpg\n",
            "Saved: /content/frames_output/frame_293.jpg\n",
            "Saved: /content/frames_output/frame_294.jpg\n",
            "Saved: /content/frames_output/frame_295.jpg\n",
            "Saved: /content/frames_output/frame_296.jpg\n",
            "Saved: /content/frames_output/frame_297.jpg\n",
            "Saved: /content/frames_output/frame_298.jpg\n",
            "Saved: /content/frames_output/frame_299.jpg\n",
            "Saved: /content/frames_output/frame_300.jpg\n",
            "Saved: /content/frames_output/frame_301.jpg\n",
            "Saved: /content/frames_output/frame_302.jpg\n",
            "Saved: /content/frames_output/frame_303.jpg\n",
            "Saved: /content/frames_output/frame_304.jpg\n",
            "Saved: /content/frames_output/frame_305.jpg\n",
            "Saved: /content/frames_output/frame_306.jpg\n",
            "Saved: /content/frames_output/frame_307.jpg\n",
            "Saved: /content/frames_output/frame_308.jpg\n",
            "Saved: /content/frames_output/frame_309.jpg\n",
            "Saved: /content/frames_output/frame_310.jpg\n",
            "Saved: /content/frames_output/frame_311.jpg\n",
            "Saved: /content/frames_output/frame_312.jpg\n",
            "Saved: /content/frames_output/frame_313.jpg\n",
            "Saved: /content/frames_output/frame_314.jpg\n",
            "Saved: /content/frames_output/frame_315.jpg\n",
            "Saved: /content/frames_output/frame_316.jpg\n",
            "Saved: /content/frames_output/frame_317.jpg\n",
            "Saved: /content/frames_output/frame_318.jpg\n",
            "Saved: /content/frames_output/frame_319.jpg\n",
            "Saved: /content/frames_output/frame_320.jpg\n",
            "Saved: /content/frames_output/frame_321.jpg\n",
            "Saved: /content/frames_output/frame_322.jpg\n",
            "Saved: /content/frames_output/frame_323.jpg\n",
            "Saved: /content/frames_output/frame_324.jpg\n",
            "Saved: /content/frames_output/frame_325.jpg\n",
            "Saved: /content/frames_output/frame_326.jpg\n",
            "Saved: /content/frames_output/frame_327.jpg\n",
            "Saved: /content/frames_output/frame_328.jpg\n",
            "Saved: /content/frames_output/frame_329.jpg\n",
            "Saved: /content/frames_output/frame_330.jpg\n",
            "Saved: /content/frames_output/frame_331.jpg\n",
            "Saved: /content/frames_output/frame_332.jpg\n",
            "Saved: /content/frames_output/frame_333.jpg\n",
            "Saved: /content/frames_output/frame_334.jpg\n",
            "Saved: /content/frames_output/frame_335.jpg\n",
            "Saved: /content/frames_output/frame_336.jpg\n",
            "Saved: /content/frames_output/frame_337.jpg\n",
            "Saved: /content/frames_output/frame_338.jpg\n",
            "Saved: /content/frames_output/frame_339.jpg\n",
            "Saved: /content/frames_output/frame_340.jpg\n",
            "Saved: /content/frames_output/frame_341.jpg\n",
            "Saved: /content/frames_output/frame_342.jpg\n",
            "Saved: /content/frames_output/frame_343.jpg\n",
            "Saved: /content/frames_output/frame_344.jpg\n",
            "Saved: /content/frames_output/frame_345.jpg\n",
            "Saved: /content/frames_output/frame_346.jpg\n",
            "Saved: /content/frames_output/frame_347.jpg\n",
            "Saved: /content/frames_output/frame_348.jpg\n",
            "Saved: /content/frames_output/frame_349.jpg\n",
            "Saved: /content/frames_output/frame_350.jpg\n",
            "Saved: /content/frames_output/frame_351.jpg\n",
            "Saved: /content/frames_output/frame_352.jpg\n",
            "Saved: /content/frames_output/frame_353.jpg\n",
            "Saved: /content/frames_output/frame_354.jpg\n",
            "Saved: /content/frames_output/frame_355.jpg\n",
            "Saved: /content/frames_output/frame_356.jpg\n",
            "Saved: /content/frames_output/frame_357.jpg\n",
            "Saved: /content/frames_output/frame_358.jpg\n",
            "Saved: /content/frames_output/frame_359.jpg\n",
            "Saved: /content/frames_output/frame_360.jpg\n",
            "Saved: /content/frames_output/frame_361.jpg\n",
            "Saved: /content/frames_output/frame_362.jpg\n",
            "Saved: /content/frames_output/frame_363.jpg\n",
            "Saved: /content/frames_output/frame_364.jpg\n",
            "Saved: /content/frames_output/frame_365.jpg\n",
            "Saved: /content/frames_output/frame_366.jpg\n",
            "Saved: /content/frames_output/frame_367.jpg\n",
            "Saved: /content/frames_output/frame_368.jpg\n",
            "Saved: /content/frames_output/frame_369.jpg\n",
            "Saved: /content/frames_output/frame_370.jpg\n",
            "Saved: /content/frames_output/frame_371.jpg\n",
            "Saved: /content/frames_output/frame_372.jpg\n",
            "Saved: /content/frames_output/frame_373.jpg\n",
            "Saved: /content/frames_output/frame_374.jpg\n",
            "Saved: /content/frames_output/frame_375.jpg\n",
            "Saved: /content/frames_output/frame_376.jpg\n",
            "Saved: /content/frames_output/frame_377.jpg\n",
            "Saved: /content/frames_output/frame_378.jpg\n",
            "Saved: /content/frames_output/frame_379.jpg\n",
            "Saved: /content/frames_output/frame_380.jpg\n",
            "Saved: /content/frames_output/frame_381.jpg\n",
            "Saved: /content/frames_output/frame_382.jpg\n",
            "Saved: /content/frames_output/frame_383.jpg\n",
            "Saved: /content/frames_output/frame_384.jpg\n",
            "Saved: /content/frames_output/frame_385.jpg\n",
            "Saved: /content/frames_output/frame_386.jpg\n",
            "Saved: /content/frames_output/frame_387.jpg\n",
            "Saved: /content/frames_output/frame_388.jpg\n",
            "Saved: /content/frames_output/frame_389.jpg\n",
            "Saved: /content/frames_output/frame_390.jpg\n",
            "Saved: /content/frames_output/frame_391.jpg\n",
            "Saved: /content/frames_output/frame_392.jpg\n",
            "Saved: /content/frames_output/frame_393.jpg\n",
            "Saved: /content/frames_output/frame_394.jpg\n",
            "Saved: /content/frames_output/frame_395.jpg\n",
            "Saved: /content/frames_output/frame_396.jpg\n",
            "Saved: /content/frames_output/frame_397.jpg\n",
            "Saved: /content/frames_output/frame_398.jpg\n",
            "Saved: /content/frames_output/frame_399.jpg\n",
            "Saved: /content/frames_output/frame_400.jpg\n",
            "Saved: /content/frames_output/frame_401.jpg\n",
            "Saved: /content/frames_output/frame_402.jpg\n",
            "Saved: /content/frames_output/frame_403.jpg\n",
            "Saved: /content/frames_output/frame_404.jpg\n",
            "Saved: /content/frames_output/frame_405.jpg\n",
            "Saved: /content/frames_output/frame_406.jpg\n",
            "Saved: /content/frames_output/frame_407.jpg\n",
            "Saved: /content/frames_output/frame_408.jpg\n",
            "Saved: /content/frames_output/frame_409.jpg\n",
            "Saved: /content/frames_output/frame_410.jpg\n",
            "Saved: /content/frames_output/frame_411.jpg\n",
            "Saved: /content/frames_output/frame_412.jpg\n",
            "Saved: /content/frames_output/frame_413.jpg\n",
            "Saved: /content/frames_output/frame_414.jpg\n",
            "Saved: /content/frames_output/frame_415.jpg\n",
            "Saved: /content/frames_output/frame_416.jpg\n",
            "Saved: /content/frames_output/frame_417.jpg\n",
            "Saved: /content/frames_output/frame_418.jpg\n",
            "Saved: /content/frames_output/frame_419.jpg\n",
            "Saved: /content/frames_output/frame_420.jpg\n",
            "Saved: /content/frames_output/frame_421.jpg\n",
            "Saved: /content/frames_output/frame_422.jpg\n",
            "Saved: /content/frames_output/frame_423.jpg\n",
            "Saved: /content/frames_output/frame_424.jpg\n",
            "Saved: /content/frames_output/frame_425.jpg\n",
            "Saved: /content/frames_output/frame_426.jpg\n",
            "Saved: /content/frames_output/frame_427.jpg\n",
            "Saved: /content/frames_output/frame_428.jpg\n",
            "Saved: /content/frames_output/frame_429.jpg\n",
            "Saved: /content/frames_output/frame_430.jpg\n",
            "Saved: /content/frames_output/frame_431.jpg\n",
            "Saved: /content/frames_output/frame_432.jpg\n",
            "Saved: /content/frames_output/frame_433.jpg\n",
            "Saved: /content/frames_output/frame_434.jpg\n",
            "Saved: /content/frames_output/frame_435.jpg\n",
            "Saved: /content/frames_output/frame_436.jpg\n",
            "Saved: /content/frames_output/frame_437.jpg\n",
            "Saved: /content/frames_output/frame_438.jpg\n",
            "Saved: /content/frames_output/frame_439.jpg\n",
            "Saved: /content/frames_output/frame_440.jpg\n",
            "Saved: /content/frames_output/frame_441.jpg\n",
            "Saved: /content/frames_output/frame_442.jpg\n",
            "Saved: /content/frames_output/frame_443.jpg\n",
            "Saved: /content/frames_output/frame_444.jpg\n",
            "Saved: /content/frames_output/frame_445.jpg\n",
            "Saved: /content/frames_output/frame_446.jpg\n",
            "Saved: /content/frames_output/frame_447.jpg\n",
            "Saved: /content/frames_output/frame_448.jpg\n",
            "Saved: /content/frames_output/frame_449.jpg\n",
            "Saved: /content/frames_output/frame_450.jpg\n",
            "Frames extracted and saved to '/content/frames_output'.\n"
          ]
        }
      ]
    }
  ]
}